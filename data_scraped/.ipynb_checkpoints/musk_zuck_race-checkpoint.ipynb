{
 "cells": [
  {
   "cell_type": "code",
   "execution_count": 1,
   "id": "f15c1356",
   "metadata": {},
   "outputs": [],
   "source": [
    "import pandas as pd"
   ]
  },
  {
   "cell_type": "code",
   "execution_count": 2,
   "id": "f529c48b",
   "metadata": {},
   "outputs": [],
   "source": [
    "musk_data = pd.read_csv('musk_combine_recipient.csv')\n",
    "zuck_data = pd.read_csv('zuck_combined_recipient.csv')"
   ]
  },
  {
   "cell_type": "code",
   "execution_count": 3,
   "id": "6390a3c1",
   "metadata": {},
   "outputs": [],
   "source": [
    "musk_data['musk_donated'] = musk_data['amount_received']\n",
    "musk_data = musk_data[['timing', 'musk_donated']]\n",
    "musk_data.to_csv('musk_data_for_race.csv')"
   ]
  },
  {
   "cell_type": "code",
   "execution_count": 4,
   "id": "8bb0a79b",
   "metadata": {},
   "outputs": [],
   "source": [
    "zuck_data['zuck_donated'] = zuck_data['amount_received']\n",
    "zuck_data = zuck_data[['timing', 'zuck_donated']]\n",
    "zuck_data.to_csv('zuck_data_for_race.csv')"
   ]
  },
  {
   "cell_type": "code",
   "execution_count": 7,
   "id": "472ae774",
   "metadata": {},
   "outputs": [],
   "source": [
    "musk_zuck_combined_df = pd.concat(map(pd.read_csv, ['musk_data_for_race.csv', 'zuck_data_for_race.csv']), ignore_index=False)\n",
    "musk_zuck_combined_df.to_csv('musk_zuck_race.csv')"
   ]
  },
  {
   "cell_type": "code",
   "execution_count": null,
   "id": "e9561020",
   "metadata": {},
   "outputs": [],
   "source": []
  }
 ],
 "metadata": {
  "kernelspec": {
   "display_name": "Python 3 (ipykernel)",
   "language": "python",
   "name": "python3"
  },
  "language_info": {
   "codemirror_mode": {
    "name": "ipython",
    "version": 3
   },
   "file_extension": ".py",
   "mimetype": "text/x-python",
   "name": "python",
   "nbconvert_exporter": "python",
   "pygments_lexer": "ipython3",
   "version": "3.10.11"
  }
 },
 "nbformat": 4,
 "nbformat_minor": 5
}
