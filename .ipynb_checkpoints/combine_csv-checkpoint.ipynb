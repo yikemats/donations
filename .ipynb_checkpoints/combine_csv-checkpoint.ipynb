{
 "cells": [
  {
   "cell_type": "code",
   "execution_count": 12,
   "id": "1c475962",
   "metadata": {},
   "outputs": [],
   "source": [
    "import pandas as pd\n"
   ]
  },
  {
   "cell_type": "code",
   "execution_count": 14,
   "id": "7600fce0",
   "metadata": {},
   "outputs": [],
   "source": [
    "zuck_combined_df = pd.concat(map(pd.read_csv, ['chan_zuckerberg_initiative_foundation2020_recipient.csv', 'chan_zuckerberg_initiative_advocacy2020_recipient.csv', 'chan_zuckerberg_biohub2020_recipient.csv', 'chan_zuckerberg_initiative_foundation2021_recipient.csv', 'chan_zuckerberg_initiative_advocacy2021_recipient.csv', 'chan_zuckerberg_biohub2021_recipient.csv']), ignore_index=False)\n"
   ]
  },
  {
   "cell_type": "code",
   "execution_count": null,
   "id": "62d35f28",
   "metadata": {},
   "outputs": [],
   "source": [
    "zuck_combined_df.to_csv('zuck_combined_recipient.csv')"
   ]
  },
  {
   "cell_type": "code",
   "execution_count": 13,
   "id": "8c2279cb",
   "metadata": {},
   "outputs": [],
   "source": [
    "musk_combined_df = pd.concat(map(pd.read_csv, ['musk_foundation2020_recipient.csv', 'musk_foundation2021_recipient.csv']), ignore_index=False)\n",
    "musk_combined_df.to_csv('musk_combine_recipient.csv')"
   ]
  },
  {
   "cell_type": "code",
   "execution_count": null,
   "id": "45e2decf",
   "metadata": {},
   "outputs": [],
   "source": []
  }
 ],
 "metadata": {
  "kernelspec": {
   "display_name": "Python 3 (ipykernel)",
   "language": "python",
   "name": "python3"
  },
  "language_info": {
   "codemirror_mode": {
    "name": "ipython",
    "version": 3
   },
   "file_extension": ".py",
   "mimetype": "text/x-python",
   "name": "python",
   "nbconvert_exporter": "python",
   "pygments_lexer": "ipython3",
   "version": "3.10.11"
  }
 },
 "nbformat": 4,
 "nbformat_minor": 5
}
